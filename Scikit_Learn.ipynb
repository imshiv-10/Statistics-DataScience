{
  "nbformat": 4,
  "nbformat_minor": 0,
  "metadata": {
    "colab": {
      "provenance": [],
      "authorship_tag": "ABX9TyNbh8iELwchPTKmUvBFZ+BO",
      "include_colab_link": true
    },
    "kernelspec": {
      "name": "python3",
      "display_name": "Python 3"
    },
    "language_info": {
      "name": "python"
    }
  },
  "cells": [
    {
      "cell_type": "markdown",
      "metadata": {
        "id": "view-in-github",
        "colab_type": "text"
      },
      "source": [
        "<a href=\"https://colab.research.google.com/github/imshiv-10/Statistics-DataScience/blob/main/Scikit_Learn.ipynb\" target=\"_parent\"><img src=\"https://colab.research.google.com/assets/colab-badge.svg\" alt=\"Open In Colab\"/></a>"
      ]
    },
    {
      "cell_type": "markdown",
      "source": [
        "# 1.1. Linear Models\n",
        "The following are a set of methods intended for regression in which the target value is expected to be a linear combination of the features. In mathematical notation, if \n",
        "y\n",
        "^\n",
        " is the predicted value.\n",
        "\n",
        "y\n",
        "^\n",
        "(\n",
        "w\n",
        ",\n",
        "x\n",
        ")\n",
        "=\n",
        "w\n",
        "0\n",
        "+\n",
        "w\n",
        "1\n",
        "x\n",
        "1\n",
        "+\n",
        ".\n",
        ".\n",
        ".\n",
        "+\n",
        "w\n",
        "p\n",
        "x\n",
        "p\n",
        "Across the module, we designate the vector \n",
        "w\n",
        "=\n",
        "(\n",
        "w\n",
        "1\n",
        ",\n",
        ".\n",
        ".\n",
        ".\n",
        ",\n",
        "w\n",
        "p\n",
        ")\n",
        " as coef_\n",
        " \n",
        "  and w0 as intercept_.\n",
        "\n"
      ],
      "metadata": {
        "id": "0EYYZAj8rRFF"
      }
    },
    {
      "cell_type": "markdown",
      "source": [
        "![image.png](data:image/png;base64,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)"
      ],
      "metadata": {
        "id": "QSp0a_uIrxD5"
      }
    },
    {
      "cell_type": "markdown",
      "source": [
        "## 1. Ordinary Least Squares\n",
        "\n",
        "![image.png](data:image/png;base64,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)"
      ],
      "metadata": {
        "id": "PxOaw0W8sHh7"
      }
    },
    {
      "cell_type": "markdown",
      "source": [
        "- OLS is loss function/ objective function it will share the loss to optimization.\n",
        "- The optimization functions are reducing the residuals"
      ],
      "metadata": {
        "id": "1NJvTXgusXGT"
      }
    },
    {
      "cell_type": "code",
      "source": [
        "from sklearn import linear_model"
      ],
      "metadata": {
        "id": "qT9m8ErvtfTB"
      },
      "execution_count": null,
      "outputs": []
    },
    {
      "cell_type": "code",
      "source": [
        "from sklearn import linear_model\n",
        "reg = linear_model.LinearRegression()\n",
        "reg.fit([[0,0], [1,1],[2,2],[3,3]],[0,1,2,3])\n",
        "reg.coef_\n",
        "reg.intercept_"
      ],
      "metadata": {
        "colab": {
          "base_uri": "https://localhost:8080/"
        },
        "id": "wBIqUCJssHMU",
        "outputId": "1ff83407-b7e6-467b-a598-440047b23807"
      },
      "execution_count": null,
      "outputs": [
        {
          "output_type": "execute_result",
          "data": {
            "text/plain": [
              "4.440892098500626e-16"
            ]
          },
          "metadata": {},
          "execution_count": 6
        }
      ]
    },
    {
      "cell_type": "code",
      "source": [
        "import matplotlib.pyplot as plt\n",
        "import numpy as np\n",
        "import matplotlib\n",
        "from sklearn import datasets, linear_model\n",
        "from sklearn.metrics import mean_squared_error, r2_score "
      ],
      "metadata": {
        "id": "z9kmDfw2rQ1-"
      },
      "execution_count": null,
      "outputs": []
    },
    {
      "cell_type": "code",
      "execution_count": null,
      "metadata": {
        "id": "zu885naLhSsj"
      },
      "outputs": [],
      "source": [
        "diabetes_X, diabetes_y = datasets.load_diabetes(return_X_y=True)"
      ]
    },
    {
      "cell_type": "code",
      "source": [
        "diabetes_X"
      ],
      "metadata": {
        "colab": {
          "base_uri": "https://localhost:8080/"
        },
        "id": "A-vGT4OBveVF",
        "outputId": "21da1f5d-2c6c-4a61-ca84-fc35b6647e78"
      },
      "execution_count": null,
      "outputs": [
        {
          "output_type": "execute_result",
          "data": {
            "text/plain": [
              "array([[ 0.03807591,  0.05068012,  0.06169621, ..., -0.00259226,\n",
              "         0.01990842, -0.01764613],\n",
              "       [-0.00188202, -0.04464164, -0.05147406, ..., -0.03949338,\n",
              "        -0.06832974, -0.09220405],\n",
              "       [ 0.08529891,  0.05068012,  0.04445121, ..., -0.00259226,\n",
              "         0.00286377, -0.02593034],\n",
              "       ...,\n",
              "       [ 0.04170844,  0.05068012, -0.01590626, ..., -0.01107952,\n",
              "        -0.04687948,  0.01549073],\n",
              "       [-0.04547248, -0.04464164,  0.03906215, ...,  0.02655962,\n",
              "         0.04452837, -0.02593034],\n",
              "       [-0.04547248, -0.04464164, -0.0730303 , ..., -0.03949338,\n",
              "        -0.00421986,  0.00306441]])"
            ]
          },
          "metadata": {},
          "execution_count": 16
        }
      ]
    },
    {
      "cell_type": "code",
      "source": [
        "diabetes_X =  diabetes_X[:,np.newaxis, 2]"
      ],
      "metadata": {
        "id": "Q3gNU8zou37c"
      },
      "execution_count": null,
      "outputs": []
    },
    {
      "cell_type": "code",
      "source": [
        "diabetes_X_train = diabetes_X[:-20]\n",
        "diabetes_X_test = diabetes_X[-20:]\n",
        "diabetes_y_train = diabetes_y[:-20]\n",
        "diabetes_y_test = diabetes_y[-20:]"
      ],
      "metadata": {
        "id": "nGtlEuVmvCYw"
      },
      "execution_count": null,
      "outputs": []
    },
    {
      "cell_type": "code",
      "source": [
        "regr = linear_model.LinearRegression()"
      ],
      "metadata": {
        "id": "oFtn9YUQwLBd"
      },
      "execution_count": null,
      "outputs": []
    },
    {
      "cell_type": "code",
      "source": [
        "regr.fit(diabetes_X_train, diabetes_y_train)"
      ],
      "metadata": {
        "colab": {
          "base_uri": "https://localhost:8080/"
        },
        "id": "n8VqSPGdwViG",
        "outputId": "38af4703-0652-4f10-e701-db6f1506a83f"
      },
      "execution_count": null,
      "outputs": [
        {
          "output_type": "execute_result",
          "data": {
            "text/plain": [
              "LinearRegression()"
            ]
          },
          "metadata": {},
          "execution_count": 21
        }
      ]
    },
    {
      "cell_type": "code",
      "source": [
        "regr.score(diabetes_X_train, diabetes_y_train)"
      ],
      "metadata": {
        "colab": {
          "base_uri": "https://localhost:8080/"
        },
        "id": "Q7w0pXzQwdNv",
        "outputId": "e3bf61ec-f22e-4520-8b0c-3a910f4bb116"
      },
      "execution_count": null,
      "outputs": [
        {
          "output_type": "execute_result",
          "data": {
            "text/plain": [
              "0.3351312506867543"
            ]
          },
          "metadata": {},
          "execution_count": 22
        }
      ]
    },
    {
      "cell_type": "code",
      "source": [
        "predictions_train = regr.predict(diabetes_X_train)\n",
        "predictions_test = regr.predict(diabetes_X_test)"
      ],
      "metadata": {
        "id": "jJsS8PRjwmyV"
      },
      "execution_count": 74,
      "outputs": []
    },
    {
      "cell_type": "code",
      "source": [
        "# In r2_score loss function will be [0,1] then r2_score is 1 it's having high accuracy and model performs well\n",
        "r2_score(diabetes_y_train, predictions_train)"
      ],
      "metadata": {
        "colab": {
          "base_uri": "https://localhost:8080/"
        },
        "id": "X-xN-DTAw2gu",
        "outputId": "f0efdc0d-9939-41fb-92cd-bd4d0347356a"
      },
      "execution_count": 75,
      "outputs": [
        {
          "output_type": "execute_result",
          "data": {
            "text/plain": [
              "0.3351312506867543"
            ]
          },
          "metadata": {},
          "execution_count": 75
        }
      ]
    },
    {
      "cell_type": "code",
      "source": [
        "mean_squared_error(diabetes_y_train, predictions_train)"
      ],
      "metadata": {
        "colab": {
          "base_uri": "https://localhost:8080/"
        },
        "id": "pFDjre57xFgd",
        "outputId": "57f822d8-3472-45c4-fbe2-700620f01bc1"
      },
      "execution_count": 76,
      "outputs": [
        {
          "output_type": "execute_result",
          "data": {
            "text/plain": [
              "3955.019853401393"
            ]
          },
          "metadata": {},
          "execution_count": 76
        }
      ]
    },
    {
      "cell_type": "code",
      "source": [
        "mean_squared_error(diabetes_y_test, predictions_test)"
      ],
      "metadata": {
        "colab": {
          "base_uri": "https://localhost:8080/"
        },
        "id": "Bwb79N8RAF6y",
        "outputId": "4518c811-c730-4f53-da78-0328dba87ede"
      },
      "execution_count": 77,
      "outputs": [
        {
          "output_type": "execute_result",
          "data": {
            "text/plain": [
              "2548.0723987259694"
            ]
          },
          "metadata": {},
          "execution_count": 77
        }
      ]
    },
    {
      "cell_type": "code",
      "source": [
        "print(\"_coefficients:\",regr.coef_)\n",
        "print(\"_intercepts:\", regr.intercept_)"
      ],
      "metadata": {
        "id": "cNO07bOIxdeY",
        "colab": {
          "base_uri": "https://localhost:8080/"
        },
        "outputId": "d64f5b21-531d-4a83-ff9c-51a020be783f"
      },
      "execution_count": 31,
      "outputs": [
        {
          "output_type": "stream",
          "name": "stdout",
          "text": [
            "_coefficients: [938.23786125]\n",
            "_intercepts: 152.91886182616167\n"
          ]
        }
      ]
    },
    {
      "cell_type": "code",
      "source": [
        "# The mean squared error\n",
        "print(\"Mean squared error: %.2f\" % mean_squared_error(diabetes_y_test, regr.predict(diabetes_X_test)))\n",
        "# The coefficient of determination: 1 is perfect prediction\n",
        "print(\"Coefficient of determination: %.2f\" % r2_score(diabetes_y_test, regr.predict(diabetes_X_test)))"
      ],
      "metadata": {
        "colab": {
          "base_uri": "https://localhost:8080/"
        },
        "id": "CqpArCIhzCfF",
        "outputId": "52def88a-ec7e-4ae9-89e4-6820df6b5331"
      },
      "execution_count": 33,
      "outputs": [
        {
          "output_type": "stream",
          "name": "stdout",
          "text": [
            "Mean squared error: 2548.07\n",
            "Coefficient of determination: 0.47\n"
          ]
        }
      ]
    },
    {
      "cell_type": "code",
      "source": [
        "\n",
        "# Plot outputs\n",
        "plt.scatter(diabetes_X_test, diabetes_y_test, color=\"black\")\n",
        "plt.plot(diabetes_X_test, regr.predict(diabetes_X_test), color=\"blue\", linewidth=3)\n",
        "\n",
        "plt.show()"
      ],
      "metadata": {
        "colab": {
          "base_uri": "https://localhost:8080/",
          "height": 265
        },
        "id": "kySUwDJkzL87",
        "outputId": "3e3ac192-56f7-4db1-92fe-835619f9d1cb"
      },
      "execution_count": 37,
      "outputs": [
        {
          "output_type": "display_data",
          "data": {
            "text/plain": [
              "<Figure size 432x288 with 1 Axes>"
            ],
            "image/png": "[encoded data removed]"
          },
          "metadata": {
            "needs_background": "light"
          }
        }
      ]
    },
    {
      "cell_type": "markdown",
      "source": [
        "## 2.  Ridge regression and classification\n",
        "\n",
        "Ridge regression addresses some of the problems of Ordinary Least Squares by imposing a penalty on the size of the coefficients. The ridge coefficients minimize a penalized residual sum of squares:\n",
        "\n",
        "![image.png](data:image/png;base64,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)"
      ],
      "metadata": {
        "id": "qb5YgUZW0PtY"
      }
    },
    {
      "cell_type": "markdown",
      "source": [
        "The complexity parameter \n",
        "α\n",
        "≥\n",
        "0\n",
        " controls the amount of shrinkage: the larger the value of \n",
        "α\n",
        ", the greater the amount of shrinkage and thus the coefficients become more robust to collinearity."
      ],
      "metadata": {
        "id": "0p9Og4aP1zrD"
      }
    },
    {
      "cell_type": "markdown",
      "source": [
        "![image.png](data:image/png;base64,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)"
      ],
      "metadata": {
        "id": "DhrOqcx21x37"
      }
    },
    {
      "cell_type": "code",
      "source": [
        "reg_ridge = linear_model.Ridge()\n",
        "reg_ridge.fit(diabetes_X_train, diabetes_y_train)"
      ],
      "metadata": {
        "colab": {
          "base_uri": "https://localhost:8080/"
        },
        "id": "GSbPIx-Wzv08",
        "outputId": "1fcb6227-678c-4e59-a40f-b18f00af371f"
      },
      "execution_count": 39,
      "outputs": [
        {
          "output_type": "execute_result",
          "data": {
            "text/plain": [
              "Ridge()"
            ]
          },
          "metadata": {},
          "execution_count": 39
        }
      ]
    },
    {
      "cell_type": "code",
      "source": [
        "rigid_predictions = reg_ridge.predict(diabetes_X_train)\n",
        "r2_score(diabetes_y_train, rigid_predictions)"
      ],
      "metadata": {
        "colab": {
          "base_uri": "https://localhost:8080/"
        },
        "id": "vxszeBAG2eTb",
        "outputId": "45d08b0d-2ce3-4a05-db9f-b2f6129090ce"
      },
      "execution_count": 42,
      "outputs": [
        {
          "output_type": "execute_result",
          "data": {
            "text/plain": [
              "0.24750834362605756"
            ]
          },
          "metadata": {},
          "execution_count": 42
        }
      ]
    },
    {
      "cell_type": "code",
      "source": [
        "reg_ridge.score(diabetes_X_train, diabetes_y_train)"
      ],
      "metadata": {
        "colab": {
          "base_uri": "https://localhost:8080/"
        },
        "id": "e6TQAlL029qA",
        "outputId": "d30465f1-8981-44af-fded-ab1328a72327"
      },
      "execution_count": 43,
      "outputs": [
        {
          "output_type": "execute_result",
          "data": {
            "text/plain": [
              "0.24750834362605756"
            ]
          },
          "metadata": {},
          "execution_count": 43
        }
      ]
    },
    {
      "cell_type": "code",
      "source": [
        "mean_squared_error(rigid_predictions, diabetes_y_train)"
      ],
      "metadata": {
        "colab": {
          "base_uri": "https://localhost:8080/"
        },
        "id": "8uPM7B2r3VPC",
        "outputId": "03537911-bb47-46fb-ed82-5a5740464bae"
      },
      "execution_count": 44,
      "outputs": [
        {
          "output_type": "execute_result",
          "data": {
            "text/plain": [
              "4476.25105489155"
            ]
          },
          "metadata": {},
          "execution_count": 44
        }
      ]
    },
    {
      "cell_type": "code",
      "source": [
        "def rigid_hypertuning(model, theta, _inputs,_targets):\n",
        "  regr_  = model\n",
        "  regr_.fit(_inputs, _targets)\n",
        "  _predictions = regr.predict(_inputs)\n",
        "  loss_r2 = regr_.score(_inputs, _targets)\n",
        "  loss_mse = mean_squared_error(_targets, _predictions)\n",
        "  # plot the loss vs w.r.to theta\n",
        "  return loss_r2, loss_mse"
      ],
      "metadata": {
        "id": "HHm1CCMn3fg-"
      },
      "execution_count": 59,
      "outputs": []
    },
    {
      "cell_type": "code",
      "source": [
        "r2_loss_, loss_mse_ = [], []\n",
        "for i in np.arange(0.000000001,0.00000001,0.000000001):\n",
        "  r2_loss, loss_mse = rigid_hypertuning(linear_model.Ridge(alpha=i), i, diabetes_X_test, diabetes_y_test)\n",
        "  r2_loss_.append(r2_loss)\n",
        "  loss_mse_.append(loss_mse)\n",
        "plt.plot(np.arange(0.000000001,0.00000001,0.000000001),r2_loss_)\n",
        "plt.plot(np.arange(0.000000001,0.00000001,0.000000001),loss_mse_)  "
      ],
      "metadata": {
        "colab": {
          "base_uri": "https://localhost:8080/",
          "height": 296
        },
        "id": "yjv6tGLO5sqR",
        "outputId": "c88421e6-4e42-476d-b8bf-3385571788ec"
      },
      "execution_count": 72,
      "outputs": [
        {
          "output_type": "execute_result",
          "data": {
            "text/plain": [
              "[<matplotlib.lines.Line2D at 0x7f8243092220>]"
            ]
          },
          "metadata": {},
          "execution_count": 72
        },
        {
          "output_type": "display_data",
          "data": {
            "text/plain": [
              "<Figure size 432x288 with 1 Axes>"
            ],
            "image/png": "[encoded data removed]"
          },
          "metadata": {
            "needs_background": "light"
          }
        }
      ]
    },
    {
      "cell_type": "code",
      "source": [
        "loss_mse_"
      ],
      "metadata": {
        "colab": {
          "base_uri": "https://localhost:8080/"
        },
        "id": "mIfidMTy6SJG",
        "outputId": "4f711cc8-573c-47e3-faa6-6ce5680bf162"
      },
      "execution_count": 73,
      "outputs": [
        {
          "output_type": "execute_result",
          "data": {
            "text/plain": [
              "[2548.0723987259694,\n",
              " 2548.0723987259694,\n",
              " 2548.0723987259694,\n",
              " 2548.0723987259694,\n",
              " 2548.0723987259694,\n",
              " 2548.0723987259694,\n",
              " 2548.0723987259694,\n",
              " 2548.0723987259694,\n",
              " 2548.0723987259694]"
            ]
          },
          "metadata": {},
          "execution_count": 73
        }
      ]
    },
    {
      "cell_type": "markdown",
      "source": [],
      "metadata": {
        "id": "qS4incAW6R5e"
      }
    },
    {
      "cell_type": "code",
      "source": [
        "import numpy as np\n",
        "from sklearn import linear_model\n",
        "reg = linear_model.RidgeCV(alphas=np.logspace(-6, 6, 13))\n",
        "reg.fit([[0, 0], [0, 0], [1, 1]], [0, .1, 1])\n",
        "reg.alpha_"
      ],
      "metadata": {
        "colab": {
          "base_uri": "https://localhost:8080/"
        },
        "id": "i122UwP6A9jO",
        "outputId": "1d7dc1a6-e51d-4634-8001-f09ebd960c5c"
      },
      "execution_count": 78,
      "outputs": [
        {
          "output_type": "execute_result",
          "data": {
            "text/plain": [
              "0.01"
            ]
          },
          "metadata": {},
          "execution_count": 78
        }
      ]
    },
    {
      "cell_type": "code",
      "source": [],
      "metadata": {
        "id": "AMUj5-ZKA-Ix"
      },
      "execution_count": null,
      "outputs": []
    }
  ]
}